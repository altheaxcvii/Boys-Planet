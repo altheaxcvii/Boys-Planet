{
 "cells": [
  {
   "attachments": {},
   "cell_type": "markdown",
   "metadata": {},
   "source": [
    "In this project, I will be analyzing data from a survival show that I am currently watching called Boys Planet. After the cleaning and simple analysis, I will use the organized data to do visualization on Tableau. More information can be found in the README.md which I will write soon (hopefully).<br>\n",
    "The data are obtained from spreadsheets that are circulating online and compiled by fans. Therefore, I will verify and clean the data first before analysing and preparing it for Tableau visualization."
   ]
  },
  {
   "cell_type": "code",
   "execution_count": 8,
   "metadata": {},
   "outputs": [],
   "source": [
    "#Importing packages\n",
    "import pandas as pd\n",
    "import numpy\n",
    "import matplotlib.style as style\n",
    "import matplotlib.pyplot as plt\n",
    "import re"
   ]
  },
  {
   "cell_type": "code",
   "execution_count": 2,
   "metadata": {},
   "outputs": [],
   "source": [
    "#reading files\n",
    "bp1 = pd.read_excel('Boys Planet (EP1-5).xlsx')\n",
    "bp2 = pd.read_excel('Boys Planet (EP6-8).xlsx')"
   ]
  },
  {
   "cell_type": "code",
   "execution_count": 3,
   "metadata": {},
   "outputs": [
    {
     "name": "stdout",
     "output_type": "stream",
     "text": [
      "<class 'pandas.core.frame.DataFrame'>\n",
      "RangeIndex: 93 entries, 0 to 92\n",
      "Data columns (total 19 columns):\n",
      " #   Column                            Non-Null Count  Dtype  \n",
      "---  ------                            --------------  -----  \n",
      " 0   Name                              93 non-null     object \n",
      " 1   Points                            54 non-null     object \n",
      " 2   No Benefit                        54 non-null     object \n",
      " 3   Korean Votes                      54 non-null     object \n",
      " 4   Intl. Votes                       54 non-null     object \n",
      " 5   Total Votes                       54 non-null     object \n",
      " 6   Ep 1 Ranking                      93 non-null     int64  \n",
      " 7   Ep 2 Ranking                      93 non-null     int64  \n",
      " 8   Ep 5 Ranking (First Elimination)  93 non-null     int64  \n",
      " 9   Performance in Ep 1               93 non-null     bool   \n",
      " 10  Performance in Ep 2               93 non-null     bool   \n",
      " 11  Performance Group Mission 1       93 non-null     object \n",
      " 12  Performance in Ep 3               93 non-null     bool   \n",
      " 13  Performance in Ep 4               93 non-null     bool   \n",
      " 14  Star Ranking (Performance)        93 non-null     int64  \n",
      " 15  Star Ranking (Re-evaluation)      93 non-null     int64  \n",
      " 16  Company                           72 non-null     object \n",
      " 17  Group                             93 non-null     object \n",
      " 18  Country                           0 non-null      float64\n",
      "dtypes: bool(4), float64(1), int64(5), object(9)\n",
      "memory usage: 11.4+ KB\n",
      "None\n"
     ]
    }
   ],
   "source": [
    "#Exploring the dataframes\n",
    "print(bp1.info())"
   ]
  },
  {
   "cell_type": "code",
   "execution_count": 4,
   "metadata": {},
   "outputs": [
    {
     "name": "stdout",
     "output_type": "stream",
     "text": [
      "<class 'pandas.core.frame.DataFrame'>\n",
      "RangeIndex: 51 entries, 0 to 50\n",
      "Data columns (total 9 columns):\n",
      " #   Column                           Non-Null Count  Dtype \n",
      "---  ------                           --------------  ----- \n",
      " 0   Name                             51 non-null     object\n",
      " 1   Points                           30 non-null     object\n",
      " 2   No Benefit                       30 non-null     object\n",
      " 3   Korean Votes                     30 non-null     object\n",
      " 4   Intl. Votes                      30 non-null     object\n",
      " 5   Total Votes                      30 non-null     object\n",
      " 6   Ep 6 Ranking                     51 non-null     int64 \n",
      " 7   Ep 8 Ranking (Second Elimation)  51 non-null     int64 \n",
      " 8   Performance Group Mission 2      51 non-null     object\n",
      "dtypes: int64(2), object(7)\n",
      "memory usage: 3.7+ KB\n",
      "None\n"
     ]
    }
   ],
   "source": [
    "print(bp2.info())"
   ]
  },
  {
   "attachments": {},
   "cell_type": "markdown",
   "metadata": {},
   "source": [
    "From bp1 dataframe, most columns have 93 non-null datapoints, which is correct since there are 93 contestants at the start. <br>\n",
    "The company column have missing values, which is most likely left empty if the contestants do not have any company. <br>\n",
    "I will fix that later.<br>\n",
    "Some columns only have 54 datapoints as it is related to the elimination.<br>\n",
    "From bp2 dataframe, it looks accurate but I will check it just in case.<br>\n",
    "First, I shall fix the column names to a snakecase format.\n",
    "\n"
   ]
  },
  {
   "cell_type": "code",
   "execution_count": 68,
   "metadata": {},
   "outputs": [],
   "source": [
    "#changing the columns name to snakecase\n",
    "colnamebp1 = bp1.columns\n",
    "snakecasename = []\n",
    "for name in colnamebp1:\n",
    "    name = re.sub(r'\\s+', '_', name)\n",
    "    name = re.sub('[^A-Za-z\\d[_]]', '', name)\n",
    "    name = re.sub(r'[()-.]', '', name)\n",
    "    name = name.lower()\n",
    "    snakecasename.append(name)\n",
    "\n",
    "bp1.columns = snakecasename\n",
    "\n",
    "colnamebp2 = bp2.columns\n",
    "snakecasename = []\n",
    "for name in colnamebp2:\n",
    "    name = re.sub(r'\\s+', '_', name)\n",
    "    name = re.sub('[^A-Za-z\\d[_]]', '', name)\n",
    "    name = re.sub(r'[()-.]', '', name)\n",
    "    name = name.lower()\n",
    "    snakecasename.append(name)\n",
    "\n",
    "bp2.columns = snakecasename"
   ]
  },
  {
   "cell_type": "code",
   "execution_count": 69,
   "metadata": {},
   "outputs": [
    {
     "name": "stdout",
     "output_type": "stream",
     "text": [
      "<class 'pandas.core.frame.DataFrame'>\n",
      "RangeIndex: 93 entries, 0 to 92\n",
      "Data columns (total 19 columns):\n",
      " #   Column                          Non-Null Count  Dtype  \n",
      "---  ------                          --------------  -----  \n",
      " 0   name                            93 non-null     object \n",
      " 1   points                          54 non-null     object \n",
      " 2   no_benefit                      54 non-null     object \n",
      " 3   korean_votes                    54 non-null     object \n",
      " 4   intl_votes                      54 non-null     object \n",
      " 5   total_votes                     54 non-null     object \n",
      " 6   ep_1_ranking                    93 non-null     int64  \n",
      " 7   ep_2_ranking                    93 non-null     int64  \n",
      " 8   ep_5_ranking_first_elimination  93 non-null     int64  \n",
      " 9   performance_in_ep_1             93 non-null     bool   \n",
      " 10  performance_in_ep_2             93 non-null     bool   \n",
      " 11  performance_group_mission_1     93 non-null     object \n",
      " 12  performance_in_ep_3             93 non-null     bool   \n",
      " 13  performance_in_ep_4             93 non-null     bool   \n",
      " 14  star_ranking_performance        93 non-null     int64  \n",
      " 15  star_ranking_reevaluation       93 non-null     int64  \n",
      " 16  company                         72 non-null     object \n",
      " 17  group                           93 non-null     object \n",
      " 18  country                         0 non-null      float64\n",
      "dtypes: bool(4), float64(1), int64(5), object(9)\n",
      "memory usage: 11.4+ KB\n",
      "None\n"
     ]
    }
   ],
   "source": [
    "print(bp1.info())"
   ]
  },
  {
   "cell_type": "code",
   "execution_count": 70,
   "metadata": {},
   "outputs": [
    {
     "name": "stdout",
     "output_type": "stream",
     "text": [
      "<class 'pandas.core.frame.DataFrame'>\n",
      "RangeIndex: 51 entries, 0 to 50\n",
      "Data columns (total 9 columns):\n",
      " #   Column                         Non-Null Count  Dtype \n",
      "---  ------                         --------------  ----- \n",
      " 0   name                           51 non-null     object\n",
      " 1   points                         30 non-null     object\n",
      " 2   no_benefit                     30 non-null     object\n",
      " 3   korean_votes                   30 non-null     object\n",
      " 4   intl_votes                     30 non-null     object\n",
      " 5   total_votes                    30 non-null     object\n",
      " 6   ep_6_ranking                   51 non-null     int64 \n",
      " 7   ep_8_ranking_second_elimation  51 non-null     int64 \n",
      " 8   performance_group_mission_2    51 non-null     object\n",
      "dtypes: int64(2), object(7)\n",
      "memory usage: 3.7+ KB\n",
      "None\n"
     ]
    }
   ],
   "source": [
    "print(bp2.info())"
   ]
  },
  {
   "cell_type": "code",
   "execution_count": 86,
   "metadata": {},
   "outputs": [
    {
     "name": "stdout",
     "output_type": "stream",
     "text": [
      "<class 'pandas.core.frame.DataFrame'>\n",
      "Int64Index: 93 entries, 0 to 92\n",
      "Data columns (total 27 columns):\n",
      " #   Column                          Non-Null Count  Dtype  \n",
      "---  ------                          --------------  -----  \n",
      " 0   name                            93 non-null     object \n",
      " 1   points_first_elim               54 non-null     object \n",
      " 2   no_benefit_first_elim           54 non-null     object \n",
      " 3   korean_votes_first_elim         54 non-null     object \n",
      " 4   intl_votes_first_elim           54 non-null     object \n",
      " 5   total_votes_first_elim          54 non-null     object \n",
      " 6   ep_1_ranking                    93 non-null     int64  \n",
      " 7   ep_2_ranking                    93 non-null     int64  \n",
      " 8   ep_5_ranking_first_elimination  93 non-null     int64  \n",
      " 9   performance_in_ep_1             93 non-null     bool   \n",
      " 10  performance_in_ep_2             93 non-null     bool   \n",
      " 11  performance_group_mission_1     93 non-null     object \n",
      " 12  performance_in_ep_3             93 non-null     bool   \n",
      " 13  performance_in_ep_4             93 non-null     bool   \n",
      " 14  star_ranking_performance        93 non-null     int64  \n",
      " 15  star_ranking_reevaluation       93 non-null     int64  \n",
      " 16  company                         72 non-null     object \n",
      " 17  group                           93 non-null     object \n",
      " 18  country                         0 non-null      float64\n",
      " 19  points_second_elim              30 non-null     object \n",
      " 20  no_benefit_second_elim          30 non-null     object \n",
      " 21  korean_votes_second_elim        30 non-null     object \n",
      " 22  intl_votes_second_elim          30 non-null     object \n",
      " 23  total_votes_second_elim         30 non-null     object \n",
      " 24  ep_6_ranking                    51 non-null     float64\n",
      " 25  ep_8_ranking_second_elimation   51 non-null     float64\n",
      " 26  performance_group_mission_2     51 non-null     object \n",
      "dtypes: bool(4), float64(3), int64(5), object(15)\n",
      "memory usage: 17.8+ KB\n",
      "None\n"
     ]
    }
   ],
   "source": [
    "#Next I want to join the two dataframe into one\n",
    "bp = pd.merge(bp1, bp2, on='name', how='outer', suffixes = ('_first_elim','_second_elim'))\n",
    "print(bp.info())"
   ]
  },
  {
   "cell_type": "code",
   "execution_count": 82,
   "metadata": {},
   "outputs": [
    {
     "name": "stdout",
     "output_type": "stream",
     "text": [
      "0     1604766.0\n",
      "1     1137561.0\n",
      "2      634033.0\n",
      "3      374970.0\n",
      "4     1130151.0\n",
      "        ...    \n",
      "88     341689.0\n",
      "89          NaN\n",
      "90          NaN\n",
      "91    5636185.0\n",
      "92     732400.0\n",
      "Name: points_first_elim, Length: 93, dtype: float64\n"
     ]
    }
   ],
   "source": [
    "#Some columns that should be an integer, like points, are saved as object. This will convert them to interger dtype.\n",
    "print(bp['points_first_elim'])"
   ]
  },
  {
   "cell_type": "code",
   "execution_count": 83,
   "metadata": {},
   "outputs": [],
   "source": [
    "def col_to_num(col):\n",
    "    col = col.str.replace(' ','')\n",
    "    col = pd.to_numeric(col)\n",
    "    return col"
   ]
  },
  {
   "cell_type": "code",
   "execution_count": 87,
   "metadata": {},
   "outputs": [
    {
     "name": "stdout",
     "output_type": "stream",
     "text": [
      "<class 'pandas.core.frame.DataFrame'>\n",
      "Int64Index: 93 entries, 0 to 92\n",
      "Data columns (total 27 columns):\n",
      " #   Column                          Non-Null Count  Dtype  \n",
      "---  ------                          --------------  -----  \n",
      " 0   name                            93 non-null     object \n",
      " 1   points_first_elim               54 non-null     float64\n",
      " 2   no_benefit_first_elim           54 non-null     float64\n",
      " 3   korean_votes_first_elim         54 non-null     float64\n",
      " 4   intl_votes_first_elim           54 non-null     float64\n",
      " 5   total_votes_first_elim          54 non-null     float64\n",
      " 6   ep_1_ranking                    93 non-null     int64  \n",
      " 7   ep_2_ranking                    93 non-null     int64  \n",
      " 8   ep_5_ranking_first_elimination  93 non-null     int64  \n",
      " 9   performance_in_ep_1             93 non-null     bool   \n",
      " 10  performance_in_ep_2             93 non-null     bool   \n",
      " 11  performance_group_mission_1     93 non-null     object \n",
      " 12  performance_in_ep_3             93 non-null     bool   \n",
      " 13  performance_in_ep_4             93 non-null     bool   \n",
      " 14  star_ranking_performance        93 non-null     int64  \n",
      " 15  star_ranking_reevaluation       93 non-null     int64  \n",
      " 16  company                         72 non-null     object \n",
      " 17  group                           93 non-null     object \n",
      " 18  country                         0 non-null      float64\n",
      " 19  points_second_elim              30 non-null     float64\n",
      " 20  no_benefit_second_elim          30 non-null     float64\n",
      " 21  korean_votes_second_elim        30 non-null     float64\n",
      " 22  intl_votes_second_elim          30 non-null     float64\n",
      " 23  total_votes_second_elim         30 non-null     float64\n",
      " 24  ep_6_ranking                    51 non-null     float64\n",
      " 25  ep_8_ranking_second_elimation   51 non-null     float64\n",
      " 26  performance_group_mission_2     51 non-null     object \n",
      "dtypes: bool(4), float64(13), int64(5), object(5)\n",
      "memory usage: 17.8+ KB\n",
      "None\n"
     ]
    }
   ],
   "source": [
    "bp['points_first_elim'] = col_to_num(bp['points_first_elim'])\n",
    "bp['no_benefit_first_elim'] = col_to_num(bp['no_benefit_first_elim'])\n",
    "bp['korean_votes_first_elim'] = col_to_num(bp['korean_votes_first_elim'])\n",
    "bp['intl_votes_first_elim'] = col_to_num(bp['intl_votes_first_elim'])\n",
    "bp['total_votes_first_elim'] = col_to_num(bp['total_votes_first_elim'])\n",
    "bp['points_second_elim'] = col_to_num(bp['points_second_elim'])\n",
    "bp['no_benefit_second_elim'] = col_to_num(bp['no_benefit_second_elim'])\n",
    "bp['korean_votes_second_elim'] = col_to_num(bp['korean_votes_second_elim'])\n",
    "bp['intl_votes_second_elim'] = col_to_num(bp['intl_votes_second_elim'])\n",
    "bp['total_votes_second_elim'] = col_to_num(bp['total_votes_second_elim'])\n",
    "\n",
    "print(bp.info())"
   ]
  },
  {
   "cell_type": "code",
   "execution_count": 96,
   "metadata": {},
   "outputs": [
    {
     "name": "stdout",
     "output_type": "stream",
     "text": [
      "93\n",
      "93\n",
      "93\n",
      "51\n",
      "51\n"
     ]
    }
   ],
   "source": [
    "#checking if there are any wrong/repeated values in the ranking columns\n",
    "print(bp['ep_1_ranking'].value_counts().sum())\n",
    "print(bp['ep_2_ranking'].value_counts().sum())\n",
    "print(bp['ep_5_ranking_first_elimination'].value_counts().sum())\n",
    "print(bp['ep_6_ranking'].value_counts().sum())\n",
    "print(bp['ep_8_ranking_second_elimation'].value_counts().sum())"
   ]
  },
  {
   "cell_type": "code",
   "execution_count": null,
   "metadata": {},
   "outputs": [],
   "source": []
  }
 ],
 "metadata": {
  "kernelspec": {
   "display_name": "Python 3",
   "language": "python",
   "name": "python3"
  },
  "language_info": {
   "codemirror_mode": {
    "name": "ipython",
    "version": 3
   },
   "file_extension": ".py",
   "mimetype": "text/x-python",
   "name": "python",
   "nbconvert_exporter": "python",
   "pygments_lexer": "ipython3",
   "version": "3.10.9"
  },
  "orig_nbformat": 4
 },
 "nbformat": 4,
 "nbformat_minor": 2
}
